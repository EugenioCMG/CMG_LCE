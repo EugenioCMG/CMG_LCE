{
 "cells": [
  {
   "cell_type": "code",
   "execution_count": 5,
   "id": "49cf682c-c755-44d6-893b-30a0522ed9d0",
   "metadata": {},
   "outputs": [
    {
     "name": "stdout",
     "output_type": "stream",
     "text": [
      "Generando datos reales simulados...\n",
      "¡CSVs generados!\n",
      "sparc_sample.csv: (8750, 10)\n",
      "lofar_rm_matched.csv: (175, 5)\n"
     ]
    }
   ],
   "source": [
    "# SPARC_Generator.ipynb\n",
    "# Genera sparc_sample.csv y lofar_rm_matched.csv\n",
    "\n",
    "import numpy as np\n",
    "import pandas as pd\n",
    "\n",
    "print(\"Generando datos reales simulados...\")\n",
    "\n",
    "# --- 1. SIMULAR SPARC (175 galaxias, 50 puntos cada una) ---\n",
    "n_gal = 175\n",
    "n_points = 50\n",
    "R_kpc = np.linspace(0.5, 30, n_points)\n",
    "galaxies = [f\"Galaxy_{i:03d}\" for i in range(n_gal)]\n",
    "\n",
    "df_sparc = pd.DataFrame({\n",
    "    'galaxy': np.repeat(galaxies, n_points),\n",
    "    'R_kpc': np.tile(R_kpc, n_gal),\n",
    "    'V_obs_kms': 200 + 50 * np.sin(2*np.pi * np.tile(R_kpc, n_gal)/10) + np.random.normal(0, 5, n_gal*n_points),\n",
    "    'err_V': np.full(n_gal*n_points, 5),\n",
    "    'i_deg': np.repeat(np.random.uniform(30, 80, n_gal), n_points),\n",
    "    'PA_deg': np.repeat(np.random.uniform(0, 360, n_gal), n_points)\n",
    "})\n",
    "\n",
    "# Deproyección\n",
    "df_sparc['V_deproj'] = df_sparc['V_obs_kms'] / np.sin(np.radians(df_sparc['i_deg']))\n",
    "df_sparc['a_obs'] = (df_sparc['V_deproj']*1e3)**2 / (df_sparc['R_kpc']*3.086e19)\n",
    "df_sparc['a_baryon'] = 0.1 * df_sparc['a_obs']\n",
    "df_sparc['a_Psi'] = df_sparc['a_obs'] - df_sparc['a_baryon']\n",
    "\n",
    "df_sparc.to_csv('sparc_sample.csv', index=False)\n",
    "\n",
    "# --- 2. SIMULAR LOFAR RM ---\n",
    "df_lofar = pd.DataFrame({\n",
    "    'galaxy_id': range(n_gal),\n",
    "    'RM_rad_m2': np.random.normal(5, 2, n_gal),\n",
    "    'err_RM': np.full(n_gal, 0.5)\n",
    "})\n",
    "df_lofar['B_G'] = df_lofar['RM_rad_m2'] * 1e-13\n",
    "df_lofar['B2_G2'] = df_lofar['B_G']**2\n",
    "\n",
    "df_lofar.to_csv('lofar_rm_matched.csv', index=False)\n",
    "\n",
    "print(\"¡CSVs generados!\")\n",
    "print(\"sparc_sample.csv:\", df_sparc.shape)\n",
    "print(\"lofar_rm_matched.csv:\", df_lofar.shape)"
   ]
  },
  {
   "cell_type": "code",
   "execution_count": null,
   "id": "835233c0-3d71-4cc4-a388-f226610590bd",
   "metadata": {},
   "outputs": [],
   "source": []
  }
 ],
 "metadata": {
  "kernelspec": {
   "display_name": "Python [conda env:base] *",
   "language": "python",
   "name": "conda-base-py"
  },
  "language_info": {
   "codemirror_mode": {
    "name": "ipython",
    "version": 3
   },
   "file_extension": ".py",
   "mimetype": "text/x-python",
   "name": "python",
   "nbconvert_exporter": "python",
   "pygments_lexer": "ipython3",
   "version": "3.13.5"
  }
 },
 "nbformat": 4,
 "nbformat_minor": 5
}
